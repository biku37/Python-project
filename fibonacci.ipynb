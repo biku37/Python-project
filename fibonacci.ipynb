{
 "cells": [
  {
   "cell_type": "code",
   "execution_count": 14,
   "id": "1480f667",
   "metadata": {},
   "outputs": [
    {
     "name": "stdout",
     "output_type": "stream",
     "text": [
      "enter the position number of the series: \n",
      "None5\n",
      "1 : 1\n",
      "2 : 1\n",
      "3 : 2\n",
      "4 : 3\n",
      "5 : 5\n"
     ]
    }
   ],
   "source": [
    "def fibonacci(n):\n",
    "    if n ==1:\n",
    "        return 1\n",
    "    elif n==2:\n",
    "        return 1\n",
    "    elif n>2:\n",
    "        return fibonacci(n-1)+ fibonacci(n-2)\n",
    "\n",
    "a=int(input(print(\"enter the position number of the series: \")))\n",
    "\n",
    "for n in range(1,a+1):\n",
    "    print(n, \":\", fibonacci(n))"
   ]
  },
  {
   "cell_type": "code",
   "execution_count": null,
   "id": "45377afc",
   "metadata": {},
   "outputs": [],
   "source": []
  }
 ],
 "metadata": {
  "kernelspec": {
   "display_name": "Python 3 (ipykernel)",
   "language": "python",
   "name": "python3"
  },
  "language_info": {
   "codemirror_mode": {
    "name": "ipython",
    "version": 3
   },
   "file_extension": ".py",
   "mimetype": "text/x-python",
   "name": "python",
   "nbconvert_exporter": "python",
   "pygments_lexer": "ipython3",
   "version": "3.9.13"
  }
 },
 "nbformat": 4,
 "nbformat_minor": 5
}
